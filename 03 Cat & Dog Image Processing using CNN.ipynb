{
 "cells": [
  {
   "cell_type": "code",
   "execution_count": 14,
   "id": "ee22843e-c3f2-4b57-962d-68cf089e4a1a",
   "metadata": {},
   "outputs": [],
   "source": [
    "import tensorflow\n",
    "\n",
    "from keras.layers import Dense, Conv2D, MaxPooling2D, Flatten\n",
    "from keras.models import Sequential\n",
    "from tensorflow.keras.preprocessing.image import ImageDataGenerator"
   ]
  },
  {
   "cell_type": "code",
   "execution_count": 6,
   "id": "634f82fa-49c1-42c7-a784-fbdf66745ee4",
   "metadata": {},
   "outputs": [],
   "source": [
    "cnn = Sequential()"
   ]
  },
  {
   "cell_type": "code",
   "execution_count": 8,
   "id": "70c29fa9-d142-4d1c-a71a-2adf3e997113",
   "metadata": {},
   "outputs": [],
   "source": [
    "cnn.add(Conv2D(32, (3,3), input_shape = (64,64,3), activation='relu'))\n",
    "cnn.add(MaxPooling2D(pool_size=(2,2)))\n",
    "cnn.add(Conv2D(16,(3,3), activation= 'relu'))\n",
    "cnn.add(MaxPooling2D(pool_size=(2,2)))\n",
    "cnn.add(Flatten())"
   ]
  },
  {
   "cell_type": "code",
   "execution_count": 11,
   "id": "e85e8fc4-c0d6-4fe0-a255-92384282ad0c",
   "metadata": {},
   "outputs": [],
   "source": [
    "cnn.add(Dense(64, activation='relu'))\n",
    "cnn.add(Dense(32, activation='relu'))\n",
    "cnn.add(Dense(16, activation='relu'))\n",
    "cnn.add(Dense(8, activation='relu'))\n",
    "cnn.add(Dense(4, activation='relu'))\n",
    "# output\n",
    "cnn.add(Dense(1, activation='sigmoid')) # 'relu' removed as output will be only 2 (Dog or Cat)"
   ]
  },
  {
   "cell_type": "code",
   "execution_count": 12,
   "id": "42c4bdf1-4e1e-4a12-aa4c-7c468fcc1294",
   "metadata": {},
   "outputs": [],
   "source": [
    "cnn.compile(loss='binary_crossentropy', optimizer='adam')"
   ]
  },
  {
   "cell_type": "code",
   "execution_count": null,
   "id": "9127a43b-5925-47e1-8bc3-42159235a920",
   "metadata": {},
   "outputs": [],
   "source": [
    "'''\n",
    "Copied from Keras Documentation \n",
    "'''\n",
    "\n",
    "train_datagen = ImageDataGenerator(\n",
    "        rescale=1./255,\n",
    "        shear_range=0.2,\n",
    "        zoom_range=0.2,\n",
    "        horizontal_flip=True)\n",
    "\n",
    "test_datagen = ImageDataGenerator(rescale=1./255)\n",
    "\n",
    "train_generator = train_datagen.flow_from_directory(\n",
    "        'data/train',\n",
    "        target_size=(64,64),\n",
    "        batch_size=32,\n",
    "        class_mode='binary')\n",
    "\n",
    "test_generator = test_datagen.flow_from_directory(\n",
    "        'data/validation',\n",
    "        target_size=(150, 150),\n",
    "        batch_size=32,\n",
    "        class_mode='binary')\n",
    "\n",
    "model.fit_generator(train_generator, samples_per_epoch=2000, nb_epoch=50, validation_data= test_generator, nb_val_samples=800)"
   ]
  },
  {
   "cell_type": "code",
   "execution_count": null,
   "id": "b1154bc4-586d-46e7-a145-3619e71d9510",
   "metadata": {},
   "outputs": [],
   "source": []
  },
  {
   "cell_type": "code",
   "execution_count": 17,
   "id": "c873be7f-8b12-4fdc-9753-4499bdbf3c5c",
   "metadata": {},
   "outputs": [],
   "source": [
    "from keras.preprocessing import image\n",
    "import numpy as np"
   ]
  },
  {
   "cell_type": "code",
   "execution_count": null,
   "id": "cc3095f0-62e4-4ea0-ab4f-f66dd39884e3",
   "metadata": {},
   "outputs": [],
   "source": [
    "img = image.load_img('final testing image /: path', target_size=(64,64))"
   ]
  },
  {
   "cell_type": "code",
   "execution_count": null,
   "id": "7d7052ba-f728-4ad2-aab3-0ffd1194ba22",
   "metadata": {},
   "outputs": [],
   "source": []
  },
  {
   "cell_type": "code",
   "execution_count": null,
   "id": "77b1aa58-aede-48e0-83f2-5fd2f81e1d42",
   "metadata": {},
   "outputs": [],
   "source": [
    "# Converting an array of images:\n",
    "img = image.img_to_array(img)"
   ]
  },
  {
   "cell_type": "code",
   "execution_count": null,
   "id": "333b1347-4dc6-4b75-bd32-8e83cb04df5a",
   "metadata": {},
   "outputs": [],
   "source": [
    "# Expand images\n",
    "img = np.expand_dims(img, axis=0)"
   ]
  },
  {
   "cell_type": "code",
   "execution_count": null,
   "id": "654a0763-dca2-45a2-b128-c9c0adb9f71d",
   "metadata": {},
   "outputs": [],
   "source": [
    "p = cnn.predict(img)"
   ]
  },
  {
   "cell_type": "code",
   "execution_count": null,
   "id": "c37d7196-904d-431d-952a-629184ba8dcc",
   "metadata": {},
   "outputs": [],
   "source": [
    "if p [0][0] < 0.5:\n",
    "    print('Dog')\n",
    "else:\n",
    "    print('Cat')"
   ]
  },
  {
   "cell_type": "code",
   "execution_count": null,
   "id": "93a6c877-cd1a-4b78-9ea3-d2c246555738",
   "metadata": {},
   "outputs": [],
   "source": []
  },
  {
   "cell_type": "code",
   "execution_count": null,
   "id": "76f8a893-3920-4a29-96e3-46c05276407c",
   "metadata": {},
   "outputs": [],
   "source": []
  },
  {
   "cell_type": "code",
   "execution_count": null,
   "id": "cb41e632-804b-4f7f-aa07-fb699689eb01",
   "metadata": {},
   "outputs": [],
   "source": []
  },
  {
   "cell_type": "code",
   "execution_count": null,
   "id": "8ac6b8c1-c566-4f89-bba7-d404487c2634",
   "metadata": {},
   "outputs": [],
   "source": []
  }
 ],
 "metadata": {
  "kernelspec": {
   "display_name": "Python 3 (ipykernel)",
   "language": "python",
   "name": "python3"
  },
  "language_info": {
   "codemirror_mode": {
    "name": "ipython",
    "version": 3
   },
   "file_extension": ".py",
   "mimetype": "text/x-python",
   "name": "python",
   "nbconvert_exporter": "python",
   "pygments_lexer": "ipython3",
   "version": "3.12.7"
  }
 },
 "nbformat": 4,
 "nbformat_minor": 5
}
